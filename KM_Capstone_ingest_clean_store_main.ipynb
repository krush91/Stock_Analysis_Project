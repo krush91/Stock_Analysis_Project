{
 "cells": [
  {
   "cell_type": "markdown",
   "source": [
    "# **Ingestion of Data from API**\n",
    "## This program collects appropriate data from an API and cleans it to suit and finally stores it into tables in the database.\n"
   ],
   "metadata": {
    "collapsed": false
   }
  },
  {
   "cell_type": "code",
   "execution_count": 145,
   "outputs": [],
   "source": [
    "%%capture\n",
    "from dotenv import load_dotenv\n",
    "import os\n",
    "\n",
    "load_dotenv()"
   ],
   "metadata": {
    "collapsed": false,
    "ExecuteTime": {
     "end_time": "2023-08-29T22:33:54.117313800Z",
     "start_time": "2023-08-29T22:33:54.104780500Z"
    }
   }
  },
  {
   "cell_type": "markdown",
   "source": [
    "## Set up libraries and packages ##"
   ],
   "metadata": {
    "collapsed": false
   }
  },
  {
   "cell_type": "code",
   "execution_count": 164,
   "metadata": {
    "pycharm": {
     "name": "#%%\n"
    },
    "id": "Bpy3OwvsGfdl",
    "cellView": "form",
    "ExecuteTime": {
     "end_time": "2023-08-29T23:08:15.877829300Z",
     "start_time": "2023-08-29T23:08:15.872830300Z"
    }
   },
   "outputs": [],
   "source": [
    "#@title set up libraries\n",
    "## set up libraries and packages needed\n",
    "\n",
    "import pandas as pd\n",
    "import yfinance as yf\n",
    "import psycopg2\n"
   ]
  },
  {
   "cell_type": "markdown",
   "source": [
    "## Set up connection to the database ##"
   ],
   "metadata": {
    "collapsed": false
   }
  },
  {
   "cell_type": "code",
   "source": [
    "%%capture\n",
    "# @title Set up connection to the database\n",
    "def connect():\n",
    "    connection = psycopg2.connect(\n",
    "        host = os.environ.get('thost'),\n",
    "        database = os.environ.get('tdatabase'),\n",
    "        user = os.environ.get('tuser'),\n",
    "        password = os.environ.get('tpassword'),\n",
    "        port = '5432',\n",
    "        options='-c search_path=student')\n",
    "    return connection\n",
    "\n",
    "connection = connect()\n"
   ],
   "metadata": {
    "id": "1xXPaLvcLXC9",
    "cellView": "form",
    "ExecuteTime": {
     "end_time": "2023-08-29T22:34:07.467407400Z",
     "start_time": "2023-08-29T22:34:07.292240300Z"
    }
   },
   "execution_count": 147,
   "outputs": []
  },
  {
   "cell_type": "markdown",
   "source": [
    "## Get the last date and time the table was updated ##"
   ],
   "metadata": {
    "collapsed": false
   }
  },
  {
   "cell_type": "code",
   "source": [
    "%%capture\n",
    "# @title Get last date and time the table was updated\n",
    "table = os.environ.get('tquery')\n",
    "query = f\"select max(period) as last_date from {table};\"\n",
    "get_last_date = pd.read_sql_query(query,connection)\n"
   ],
   "metadata": {
    "id": "gpaq8kB4LXJd",
    "cellView": "form",
    "ExecuteTime": {
     "end_time": "2023-08-29T22:34:11.309459Z",
     "start_time": "2023-08-29T22:34:11.257535900Z"
    }
   },
   "execution_count": 148,
   "outputs": []
  },
  {
   "cell_type": "code",
   "source": [
    "print(get_last_date['last_date'])"
   ],
   "metadata": {
    "id": "5JLLDZ9eg3bN",
    "ExecuteTime": {
     "end_time": "2023-08-29T22:34:13.729113800Z",
     "start_time": "2023-08-29T22:34:13.719471500Z"
    }
   },
   "execution_count": 149,
   "outputs": [
    {
     "name": "stdout",
     "output_type": "stream",
     "text": [
      "0   2023-08-29 15:30:00\n",
      "Name: last_date, dtype: datetime64[ns]\n"
     ]
    }
   ]
  },
  {
   "cell_type": "markdown",
   "source": [
    "# Set timeframe in which to extract new data from API:\n",
    "#### For first time - when the table is empty then max date is within last 60 days\n",
    "#### Otherwise can use the last timestamp from the table"
   ],
   "metadata": {
    "id": "TcoEzD8Z3mzd"
   }
  },
  {
   "cell_type": "code",
   "source": [
    "%%capture\n",
    "# @title Set timeframe to extract data from API:\n",
    "\n",
    "# Due to limitations of the API we can only download historical the last 60 days worth of data to use for populating the tables\n",
    "\n",
    "# if table empty the set to max 60 days\n",
    "current_date = pd.Timestamp.now().date()\n",
    "# what is 60 days ago?\n",
    "def_earliest_date = (current_date - pd.DateOffset(days=59)).date()\n",
    "# set date if empty - only if table is empty\n",
    "get_last_date.fillna(def_earliest_date, inplace = True)\n",
    "# setup start date\n",
    "earliest_date = get_last_date['last_date'][0]"
   ],
   "metadata": {
    "id": "ZTRN1iJcyw89",
    "cellView": "form",
    "ExecuteTime": {
     "end_time": "2023-08-29T22:34:26.754739400Z",
     "start_time": "2023-08-29T22:34:26.734505100Z"
    }
   },
   "execution_count": 150,
   "outputs": []
  },
  {
   "cell_type": "markdown",
   "source": [
    "## get the newest data from the api ##"
   ],
   "metadata": {
    "collapsed": false
   }
  },
  {
   "cell_type": "code",
   "execution_count": null,
   "outputs": [],
   "source": [
    "# @title Get Data for 3 chosen Stocks\n",
    "\n",
    "data = yf.download(\"BARC.L MTRO.L LLOY.L\", start=earliest_date, end=None, group_by='tickers', interval='30m')\n",
    "# data\n"
   ],
   "metadata": {
    "collapsed": false
   }
  },
  {
   "cell_type": "markdown",
   "source": [
    "# **Clean the Data**"
   ],
   "metadata": {
    "id": "g3v3mab_pfEu"
   }
  },
  {
   "cell_type": "markdown",
   "source": [
    "### format columns"
   ],
   "metadata": {
    "id": "SoqWOoxnZ3eC"
   }
  },
  {
   "cell_type": "code",
   "source": [
    "stockdf = pd.DataFrame(data.stack(0).reset_index().rename(columns={'level_1': 'Ticker'}))"
   ],
   "metadata": {
    "id": "bHXyEG0y0Gew",
    "ExecuteTime": {
     "end_time": "2023-08-29T22:35:03.974028100Z",
     "start_time": "2023-08-29T22:35:03.961590800Z"
    }
   },
   "execution_count": 152,
   "outputs": []
  },
  {
   "cell_type": "code",
   "source": [
    "# stockdf.head()"
   ],
   "metadata": {
    "id": "M_fA-aWo1BOQ"
   },
   "execution_count": null,
   "outputs": []
  },
  {
   "cell_type": "markdown",
   "source": [
    "### remove unwanted columns ###"
   ],
   "metadata": {
    "id": "F3HL80ZFprdN"
   }
  },
  {
   "cell_type": "code",
   "source": [
    "cols_to_remove = ['Adj Close', 'Volume']\n",
    "stockdf2 = stockdf.drop(columns=cols_to_remove)\n",
    "# stockdf2"
   ],
   "metadata": {
    "id": "30arKipO3Jl1",
    "ExecuteTime": {
     "end_time": "2023-08-29T22:35:23.199199500Z",
     "start_time": "2023-08-29T22:35:23.190462100Z"
    }
   },
   "execution_count": 154,
   "outputs": []
  },
  {
   "cell_type": "markdown",
   "source": [
    "### format data ###"
   ],
   "metadata": {
    "id": "RiU48pS0qBK2"
   }
  },
  {
   "cell_type": "code",
   "source": [
    "stockdf2['Ticker'] = stockdf2['Ticker'].str.rstrip(\".L\")"
   ],
   "metadata": {
    "id": "J7N74_d382wg",
    "ExecuteTime": {
     "end_time": "2023-08-29T22:35:29.416267600Z",
     "start_time": "2023-08-29T22:35:29.408711800Z"
    }
   },
   "execution_count": 155,
   "outputs": []
  },
  {
   "cell_type": "code",
   "source": [
    "#stockdf2.head()"
   ],
   "metadata": {
    "id": "pRLMUvc1VLKL"
   },
   "execution_count": null,
   "outputs": []
  },
  {
   "cell_type": "code",
   "source": [
    "# stockdf2.tail()"
   ],
   "metadata": {
    "id": "rAlyA2JHExXy",
    "ExecuteTime": {
     "end_time": "2023-08-29T22:36:03.281906500Z",
     "start_time": "2023-08-29T22:36:03.278891200Z"
    }
   },
   "execution_count": 157,
   "outputs": []
  },
  {
   "cell_type": "code",
   "source": [
    "## optionally for large data set - when running for first time save as .csv file\n",
    "# not needed now\n",
    "# stockdf2.to_csv('stocks.csv')"
   ],
   "metadata": {
    "id": "wk5WYh3T8GT5",
    "ExecuteTime": {
     "end_time": "2023-08-29T22:36:08.393272800Z",
     "start_time": "2023-08-29T22:36:08.390263700Z"
    }
   },
   "execution_count": 158,
   "outputs": []
  },
  {
   "cell_type": "markdown",
   "source": [
    "# Filter rows #\n",
    "*Now* choose filter stock table where date > maxdatetime - So only keeping new records.\n",
    "\n",
    "\n",
    "\n"
   ],
   "metadata": {
    "id": "26Y0WwRHLX5h"
   }
  },
  {
   "cell_type": "code",
   "source": [
    "%%capture\n",
    "filtered_view = stockdf2.loc[\n",
    "    pd.to_datetime(stockdf2['Datetime']) > pd.to_datetime(get_last_date['last_date'][0])\n",
    "]\n"
   ],
   "metadata": {
    "id": "X4KhpNS_WFzn",
    "ExecuteTime": {
     "end_time": "2023-08-29T22:36:19.009892500Z",
     "start_time": "2023-08-29T22:36:19.002198900Z"
    }
   },
   "execution_count": 159,
   "outputs": []
  },
  {
   "cell_type": "markdown",
   "source": [
    "# Check how many rows will be inserted into Database #"
   ],
   "metadata": {
    "id": "M5dZyMgHFcqd"
   }
  },
  {
   "cell_type": "code",
   "source": [
    "# print(stockdf2['Datetime'].count())\n",
    "\n",
    "print(filtered_view['Datetime'].count(), 'rows will be inserted')"
   ],
   "metadata": {
    "id": "KVDJJCwfLljc",
    "colab": {
     "base_uri": "https://localhost:8080/"
    },
    "outputId": "b06d0990-8136-473b-eb4e-d3faada6d2a3",
    "ExecuteTime": {
     "end_time": "2023-08-29T22:36:28.765354400Z",
     "start_time": "2023-08-29T22:36:28.758251700Z"
    }
   },
   "execution_count": 160,
   "outputs": [
    {
     "name": "stdout",
     "output_type": "stream",
     "text": [
      "3 rows will be inserted\n"
     ]
    }
   ]
  },
  {
   "cell_type": "markdown",
   "source": [
    "# Update Database with the filtered data"
   ],
   "metadata": {
    "id": "6njqRVbbsbDV"
   }
  },
  {
   "cell_type": "code",
   "source": [
    "cursor = connection.cursor()\n"
   ],
   "metadata": {
    "id": "LHzB4flsYDa4",
    "ExecuteTime": {
     "end_time": "2023-08-29T22:37:05.397943Z",
     "start_time": "2023-08-29T22:37:05.388319300Z"
    }
   },
   "execution_count": 161,
   "outputs": []
  },
  {
   "cell_type": "code",
   "execution_count": 162,
   "outputs": [],
   "source": [
    "# insert into database\n",
    "for index, row in filtered_view.iterrows():\n",
    "    insert_query = f\"INSERT INTO {table}(period, ticker, close, high, low, open) VALUES (%s, %s, %s, %s, %s, %s)\"\n",
    "    values = tuple(row)\n",
    "    cursor.execute(insert_query,values)\n"
   ],
   "metadata": {
    "collapsed": false,
    "ExecuteTime": {
     "end_time": "2023-08-29T22:37:15.012964Z",
     "start_time": "2023-08-29T22:37:14.948390300Z"
    }
   }
  },
  {
   "cell_type": "markdown",
   "source": [
    "# Commit and close connections"
   ],
   "metadata": {
    "id": "tMsmBgcar_mq"
   }
  },
  {
   "cell_type": "code",
   "source": [
    "# Commit the changes and close the cursor and connection\n",
    "connection.commit()\n",
    "cursor.close()\n",
    "connection.close()\n",
    "\n",
    "print('*** update complete ***')"
   ],
   "metadata": {
    "id": "zBZGjuCfJ7VP"
   },
   "execution_count": null,
   "outputs": []
  }
 ],
 "metadata": {
  "kernelspec": {
   "display_name": "Python 3",
   "language": "python",
   "name": "python3"
  },
  "language_info": {
   "codemirror_mode": {
    "name": "ipython",
    "version": 3
   },
   "file_extension": ".py",
   "mimetype": "text/x-python",
   "name": "python",
   "nbconvert_exporter": "python",
   "pygments_lexer": "ipython3",
   "version": "3.8.5"
  },
  "colab": {
   "provenance": [],
   "collapsed_sections": [
    "oscBjKJklakJ",
    "g3v3mab_pfEu",
    "26Y0WwRHLX5h",
    "M5dZyMgHFcqd",
    "tMsmBgcar_mq"
   ]
  }
 },
 "nbformat": 4,
 "nbformat_minor": 0
}
